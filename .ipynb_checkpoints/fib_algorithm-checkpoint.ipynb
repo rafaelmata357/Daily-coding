{
 "cells": [
  {
   "cell_type": "markdown",
   "id": "d3780cdb",
   "metadata": {},
   "source": [
    "# Program to calculate Fibonnaci Series\n"
   ]
  },
  {
   "cell_type": "markdown",
   "id": "561ac29e",
   "metadata": {},
   "source": [
    "### Programmer : Rafael Mata\n",
    "### Date created: 02/14\n",
    "### Date modified: 02/14"
   ]
  },
  {
   "cell_type": "code",
   "execution_count": 28,
   "id": "323eab11",
   "metadata": {},
   "outputs": [],
   "source": [
    "import time\n",
    "import numpy as np"
   ]
  },
  {
   "cell_type": "code",
   "execution_count": 29,
   "id": "de86f290",
   "metadata": {},
   "outputs": [],
   "source": [
    "def fib(n):\n",
    "     fib_series = [0, 1]\n",
    "     for i in range(2, n):\n",
    "          fib_series.append(fib_series[i-1] + fib_series[i-2])\n",
    "     return fib_series"
   ]
  },
  {
   "cell_type": "code",
   "execution_count": 30,
   "id": "3ab3431a",
   "metadata": {},
   "outputs": [],
   "source": [
    "def fibonacci(n):\n",
    "    # base case\n",
    "    if n == 0:\n",
    "        return 0\n",
    "    elif n == 1:\n",
    "        return 1\n",
    "    # recursive case\n",
    "    else:\n",
    "        return fibonacci(n-1) + fibonacci(n-2)\n"
   ]
  },
  {
   "cell_type": "code",
   "execution_count": 70,
   "id": "65f77cb5",
   "metadata": {},
   "outputs": [],
   "source": [
    "def fibo(n):\n",
    "    a = 0\n",
    "    b = 1\n",
    "    \n",
    "    if n == 0:\n",
    "        c = a\n",
    "    elif n == 1:\n",
    "        c = b\n",
    "    else:\n",
    "        c = b\n",
    "    \n",
    "    for i in range(2, n):\n",
    "        c = a + b\n",
    "        a = b\n",
    "        b = c\n",
    "        \n",
    "    return c\n",
    "        "
   ]
  },
  {
   "cell_type": "code",
   "execution_count": 71,
   "id": "37617439",
   "metadata": {},
   "outputs": [],
   "source": [
    "n = 40"
   ]
  },
  {
   "cell_type": "code",
   "execution_count": 33,
   "id": "f0ebb1b7",
   "metadata": {},
   "outputs": [
    {
     "name": "stdout",
     "output_type": "stream",
     "text": [
      "Elapsed time: 54.01048016548157 seconds\n"
     ]
    }
   ],
   "source": [
    "start_time = time.time()\n",
    "\n",
    "fibonacci(n)\n",
    "\n",
    "end_time = time.time()\n",
    "elapsed_time = a = end_time - start_time\n",
    "\n",
    "print(\"Elapsed time:\", elapsed_time, \"seconds\")\n"
   ]
  },
  {
   "cell_type": "code",
   "execution_count": 34,
   "id": "0419f7b8",
   "metadata": {},
   "outputs": [
    {
     "name": "stdout",
     "output_type": "stream",
     "text": [
      "Elapsed time: 0.00011420249938964844 seconds\n"
     ]
    }
   ],
   "source": [
    "start_time = time.time()\n",
    "\n",
    "fibo(n)\n",
    "\n",
    "end_time = time.time()\n",
    "elapsed_time = b = end_time - start_time\n",
    "\n",
    "print(\"Elapsed time:\", elapsed_time, \"seconds\")"
   ]
  },
  {
   "cell_type": "code",
   "execution_count": 35,
   "id": "5a64014f",
   "metadata": {},
   "outputs": [
    {
     "name": "stdout",
     "output_type": "stream",
     "text": [
      "Elapsed time: 0.00016307830810546875 seconds\n"
     ]
    }
   ],
   "source": [
    "start_time = time.time()\n",
    "\n",
    "fib(n)\n",
    "\n",
    "end_time = time.time()\n",
    "elapsed_time = c = end_time - start_time\n",
    "\n",
    "print(\"Elapsed time:\", elapsed_time, \"seconds\")"
   ]
  },
  {
   "cell_type": "code",
   "execution_count": 36,
   "id": "1e7df89a",
   "metadata": {},
   "outputs": [],
   "source": [
    "v = np.arange(6)"
   ]
  },
  {
   "cell_type": "code",
   "execution_count": 50,
   "id": "bf523916",
   "metadata": {},
   "outputs": [
    {
     "data": {
      "text/plain": [
       "[0, 1, 1, 2, 3, 5]"
      ]
     },
     "execution_count": 50,
     "metadata": {},
     "output_type": "execute_result"
    }
   ],
   "source": [
    "fib(6)"
   ]
  },
  {
   "cell_type": "code",
   "execution_count": 91,
   "id": "746b85c9",
   "metadata": {},
   "outputs": [],
   "source": [
    "F = np.array([[1.0 ,1.0 ], [1.0 , 0.0]])"
   ]
  },
  {
   "cell_type": "code",
   "execution_count": 92,
   "id": "d1fcfa41",
   "metadata": {},
   "outputs": [
    {
     "data": {
      "text/plain": [
       "array([[1., 1.],\n",
       "       [1., 0.]])"
      ]
     },
     "execution_count": 92,
     "metadata": {},
     "output_type": "execute_result"
    }
   ],
   "source": [
    "F"
   ]
  },
  {
   "cell_type": "code",
   "execution_count": 51,
   "id": "5cce864b",
   "metadata": {},
   "outputs": [
    {
     "data": {
      "text/plain": [
       "array([[3, 2],\n",
       "       [2, 1]])"
      ]
     },
     "execution_count": 51,
     "metadata": {},
     "output_type": "execute_result"
    }
   ],
   "source": [
    "np.dot(F,F).dot(F)"
   ]
  },
  {
   "cell_type": "code",
   "execution_count": 94,
   "id": "fb2d0394",
   "metadata": {},
   "outputs": [
    {
     "data": {
      "text/plain": [
       "array([[2.84812298e+83, 1.76023681e+83],\n",
       "       [1.76023681e+83, 1.08788617e+83]])"
      ]
     },
     "execution_count": 94,
     "metadata": {},
     "output_type": "execute_result"
    }
   ],
   "source": [
    "np.linalg.matrix_power(F, 400)"
   ]
  },
  {
   "cell_type": "code",
   "execution_count": 78,
   "id": "23217f13",
   "metadata": {},
   "outputs": [
    {
     "data": {
      "text/plain": [
       "array([[5, 3],\n",
       "       [3, 2]])"
      ]
     },
     "execution_count": 78,
     "metadata": {},
     "output_type": "execute_result"
    }
   ],
   "source": [
    "F@F@F@F"
   ]
  },
  {
   "cell_type": "code",
   "execution_count": 80,
   "id": "62c4e4c1",
   "metadata": {},
   "outputs": [
    {
     "data": {
      "text/plain": [
       "1"
      ]
     },
     "execution_count": 80,
     "metadata": {},
     "output_type": "execute_result"
    }
   ],
   "source": [
    "F[0,1]"
   ]
  },
  {
   "cell_type": "code",
   "execution_count": 95,
   "id": "5ab17426",
   "metadata": {},
   "outputs": [
    {
     "data": {
      "text/plain": [
       "108788617463475645289761992289049744844995705477812699099751202749393926359816304226"
      ]
     },
     "execution_count": 95,
     "metadata": {},
     "output_type": "execute_result"
    }
   ],
   "source": [
    "fibo(400)"
   ]
  },
  {
   "cell_type": "code",
   "execution_count": 60,
   "id": "3d1183d6",
   "metadata": {},
   "outputs": [
    {
     "data": {
      "text/plain": [
       "1"
      ]
     },
     "execution_count": 60,
     "metadata": {},
     "output_type": "execute_result"
    }
   ],
   "source": [
    "fibonacci(1)"
   ]
  },
  {
   "cell_type": "code",
   "execution_count": 23,
   "id": "0e0d935d",
   "metadata": {},
   "outputs": [
    {
     "data": {
      "text/plain": [
       "321923.68941979524"
      ]
     },
     "execution_count": 23,
     "metadata": {},
     "output_type": "execute_result"
    }
   ],
   "source": [
    "a / b"
   ]
  },
  {
   "cell_type": "code",
   "execution_count": 24,
   "id": "9ce95201",
   "metadata": {},
   "outputs": [
    {
     "data": {
      "text/plain": [
       "351298.4767225326"
      ]
     },
     "execution_count": 24,
     "metadata": {},
     "output_type": "execute_result"
    }
   ],
   "source": [
    "a/c"
   ]
  },
  {
   "cell_type": "code",
   "execution_count": 25,
   "id": "c240cdae",
   "metadata": {},
   "outputs": [
    {
     "data": {
      "text/plain": [
       "1.091247672253259"
      ]
     },
     "execution_count": 25,
     "metadata": {},
     "output_type": "execute_result"
    }
   ],
   "source": [
    "b/c"
   ]
  },
  {
   "cell_type": "code",
   "execution_count": null,
   "id": "a1c4d963",
   "metadata": {},
   "outputs": [],
   "source": []
  }
 ],
 "metadata": {
  "kernelspec": {
   "display_name": "Python 3",
   "language": "python",
   "name": "python3"
  },
  "language_info": {
   "codemirror_mode": {
    "name": "ipython",
    "version": 3
   },
   "file_extension": ".py",
   "mimetype": "text/x-python",
   "name": "python",
   "nbconvert_exporter": "python",
   "pygments_lexer": "ipython3",
   "version": "3.8.5"
  }
 },
 "nbformat": 4,
 "nbformat_minor": 5
}
