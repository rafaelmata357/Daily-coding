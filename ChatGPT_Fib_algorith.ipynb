{
 "cells": [
  {
   "cell_type": "code",
   "execution_count": 77,
   "id": "7b171b49",
   "metadata": {},
   "outputs": [],
   "source": [
    "def fibonacci(n):\n",
    "    if n == 0:\n",
    "        return 0\n",
    "    elif n == 1:\n",
    "        return 1\n",
    "    else:\n",
    "        matrix = [[1, 1], [1, 0]]\n",
    "        result = matrix_power(matrix, n-1)\n",
    "        return result[0][0]\n",
    "\n",
    "def matrix_power(matrix, n):\n",
    "    if n == 1:\n",
    "        return matrix\n",
    "    elif n % 2 == 0:\n",
    "        matrix_half = matrix_power(matrix, n/2)\n",
    "        return multiply_matrices(matrix_half, matrix_half)\n",
    "    else:\n",
    "        matrix_half = matrix_power(matrix, (n-1)/2)\n",
    "        return multiply_matrices(multiply_matrices(matrix_half, matrix_half), matrix)\n",
    "\n",
    "def multiply_matrices(matrix1, matrix2):\n",
    "    result = [[0, 0], [0, 0]]\n",
    "    for i in range(2):\n",
    "        for j in range(2):\n",
    "            for k in range(2):\n",
    "                result[i][j] += matrix1[i][k] * matrix2[k][j]\n",
    "    return result\n",
    "\n",
    "def multiply_matrices2(m1, m2):\n",
    "    a = m1[0][0]\n",
    "    b = m1[0][1]\n",
    "    c = m1[1][0]\n",
    "    d = m1[1][1]\n",
    "    \n",
    "    e = m2[0][0]\n",
    "    f = m2[0][1]\n",
    "    g = m2[1][0]\n",
    "    h = m2[1][1]\n",
    "    \n",
    "    result = [[a*e + b*g, a*f + g*h], [c*e + d*g, c*f + d*h]]\n",
    "    return result\n"
   ]
  },
  {
   "cell_type": "code",
   "execution_count": 34,
   "id": "ba8c15bc",
   "metadata": {},
   "outputs": [],
   "source": [
    "import time"
   ]
  },
  {
   "cell_type": "code",
   "execution_count": 75,
   "id": "772babce",
   "metadata": {},
   "outputs": [],
   "source": [
    "n = 10000000"
   ]
  },
  {
   "cell_type": "code",
   "execution_count": 79,
   "id": "59c6758f",
   "metadata": {},
   "outputs": [
    {
     "name": "stdout",
     "output_type": "stream",
     "text": [
      "Elapsed time: 12.28016996383667 seconds\n"
     ]
    }
   ],
   "source": [
    "start_time = time.time()\n",
    "\n",
    "r = fibonacci(n)\n",
    "\n",
    "end_time = time.time()\n",
    "elapsed_time = a = end_time - start_time\n",
    "\n",
    "print(\"Elapsed time:\", elapsed_time, \"seconds\")"
   ]
  },
  {
   "cell_type": "code",
   "execution_count": null,
   "id": "7b09a9a7",
   "metadata": {},
   "outputs": [],
   "source": []
  }
 ],
 "metadata": {
  "kernelspec": {
   "display_name": "Python 3",
   "language": "python",
   "name": "python3"
  },
  "language_info": {
   "codemirror_mode": {
    "name": "ipython",
    "version": 3
   },
   "file_extension": ".py",
   "mimetype": "text/x-python",
   "name": "python",
   "nbconvert_exporter": "python",
   "pygments_lexer": "ipython3",
   "version": "3.8.5"
  }
 },
 "nbformat": 4,
 "nbformat_minor": 5
}
